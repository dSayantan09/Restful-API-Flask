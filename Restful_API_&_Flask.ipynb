{
  "cells": [
    {
      "cell_type": "markdown",
      "metadata": {
        "id": "-LgGIsqxtpdP"
      },
      "source": [
        "#Theory Questions"
      ]
    },
    {
      "cell_type": "markdown",
      "metadata": {
        "id": "eMppLmO-tybl"
      },
      "source": [
        "1. What is a RESTful API?\n",
        "\n",
        "--> A RESTful API is an application programming interface that follows the architectural style known as Representational State Transfer (REST), allowing communication between computer systems over the internet using standard web protocols like HTTP.\n",
        "\n",
        "Key Characteristics\n",
        "\n",
        "RESTful APIs organize resources (such as data objects) into clear, unique URLs that represent specific entities, with actions performed using standardized HTTP methods like GET, POST, PUT, and DELETE.\n",
        "\n",
        "The communication is stateless, meaning each request from a client must contain all necessary information, with the server not retaining previous session data.\n",
        "\n",
        "Responses are typically delivered in formats like JSON or XML, making the APIs platform-agnostic and easily consumable across web and mobile applications"
      ]
    },
    {
      "cell_type": "markdown",
      "metadata": {
        "id": "a_7nB1XSuCOr"
      },
      "source": [
        "2. Explain the concept of API specification.\n",
        "\n",
        "--> An API specification is a formal and detailed blueprint or technical description of an API's behavior, structure, and functionality. It defines the elements that an API must contain, including its accessible endpoints, operations, input and output data formats, and the relationships between different API components. This specification is typically created before the API development process begins to guide developers in building an API that meets the defined standards and expectations.\n",
        "\n",
        "Key Aspects of API Specification\n",
        "\n",
        "It provides a broad understanding of how the API behaves and interacts with other APIs, describing the expected results from each API call.\n",
        "\n",
        "API specifications are often written in machine-readable formats such as YAML or JSON, using standardized frameworks like the OpenAPI Specification, allowing automation in generating documentation, client libraries, and test cases.\n",
        "\n",
        "The specification acts as a contract for both humans (developers) and machines, ensuring consistent and accurate implementation of the API.\n",
        "\n",
        "It also helps outline the design philosophy, supported data types, security requirements, and data flows of the API."
      ]
    },
    {
      "cell_type": "markdown",
      "metadata": {
        "id": "MoFDKxlxuPOU"
      },
      "source": [
        "3. What is Flask, and why is it popular for building APIs?\n",
        "\n",
        "--> Flask is a lightweight and flexible web framework for Python designed to make web development quick and easy while allowing for scalability in complex applications. It is often referred to as a \"microframework\" because it provides only the essential components needed to build web applications without imposing dependencies or certain pre-built features like ORMs or form validation, which developers can add as needed through extensions.\n",
        "\n",
        "Why Flask is Popular for Building APIs\n",
        "\n",
        "Simplicity and Minimalism: Flask has a simple, intuitive API and minimal base code requirements, making it easy for beginners to learn and start building APIs quickly.\n",
        "\n",
        "Flexibility and Extensibility: It lets developers choose the tools they want, such as databases or templating engines, and add functionality through extensions without enforcing a strict project structure.\n",
        "\n",
        "Lightweight and Fast: Because it only includes core essentials by default, Flask applications are lightweight and performant, ideal for creating RESTful APIs and microservices.\n",
        "\n",
        "Built-in Development Server and Debugger: Flask comes with a built-in server for local testing and debug features that speed up development.\n",
        "\n",
        "Powerful Routing: Flask uses simple decorators to define URL routes, making API endpoint creation straightforward and readable.\n",
        "\n",
        "Large Community and Ecosystem: It has robust documentation and a wide array of extensions, making it easy to get support and add features like authentication or database integration.\n",
        "\n"
      ]
    },
    {
      "cell_type": "markdown",
      "metadata": {
        "id": "w4LrLlyPuYt4"
      },
      "source": [
        "4.  What is routing in Flask?\n",
        "\n",
        "--> Routing in Flask is the process of mapping URLs to specific functions in the web application that handle the logic and return responses for those URLs. When a user visits a certain URL or sends a request to an API endpoint, Flask uses routing to determine which function to execute to serve that request.\n",
        "\n",
        "How Routing Works in Flask\n",
        "\n",
        "Routes are defined using the @app.route() decorator in Flask, where app is the Flask application instance. The decorator specifies the URL path that triggers the decorated function.\n",
        "\n",
        "Each route corresponds to a function, called a view function, that contains the logic to process the request and provide a response, which could be HTML content, JSON data, or other outputs.\n",
        "\n",
        "Routes support dynamic parameters, allowing variable parts of URLs to be captured and passed to the view function for processing. For example, a URL like /user/<username> can capture the username part dynamically.\n",
        "\n",
        "Flask routes can also handle different HTTP methods like GET, POST, PUT, and DELETE, essential for building RESTful APIs.\n",
        "\n",
        "Multiple routes can point to the same function, and routes can have optional parameters as well.\n",
        "\n",
        "\n",
        "\n",
        "```\n",
        "from flask import Flask\n",
        "\n",
        "app = Flask(__name__)\n",
        "\n",
        "@app.route('/')\n",
        "def home():\n",
        "    return \"Welcome to the Homepage\"\n",
        "\n",
        "@app.route('/hello')\n",
        "def hello():\n",
        "    return \"Hello, World!\"\n",
        "\n",
        "@app.route('/user/<username>')\n",
        "def show_user(username):\n",
        "    return f\"User: {username}\"\n",
        "\n",
        "if __name__ == '__main__':\n",
        "    app.run(debug=True)\n",
        "\n",
        "```\n",
        "\n",
        "\n"
      ]
    },
    {
      "cell_type": "markdown",
      "metadata": {
        "id": "tpVaC_xzujly"
      },
      "source": [
        "5.  How do you create a simple Flask application?\n",
        "\n",
        "--> To create a simple Flask application, follow these steps:\n",
        "\n",
        "    a. Install Flask\n",
        "\n",
        "Use pip to install Flask if it is not already installed:\n",
        "\n",
        "*pip install flask*\n",
        "\n",
        "\n",
        "\n",
        "\n",
        "\n",
        "    b. Create a Python script (e.g., app.py)\n",
        "\n",
        "\n",
        "```\n",
        "from flask import Flask\n",
        "\n",
        "app = Flask(__name__)\n",
        "\n",
        "@app.route('/')\n",
        "def home():\n",
        "    return \"Hello, Flask!\"\n",
        "\n",
        "if __name__ == '__main__':\n",
        "    app.run(debug=True)\n",
        "Run the Flask application\n",
        "```\n",
        "\n",
        "\n",
        "    c. Execute the script:\n",
        "\n",
        "*python app.py*\n",
        "\n",
        "\n",
        "    d. Access the app\n",
        "\n",
        "\n",
        "Open a web browser and go to http://127.0.0.1:5000/  to see the message \"Hello, Flask!\"."
      ]
    },
    {
      "cell_type": "markdown",
      "metadata": {
        "id": "ub2PFbPtvipQ"
      },
      "source": [
        "6. What are HTTP methods used in RESTful APIs?\n",
        "\n",
        "--> The HTTP methods commonly used in RESTful APIs are:\n",
        "\n",
        "GET\n",
        "Retrieves data from the server without modifying it. It is a safe and idempotent method used to request a representation of a resource.\n",
        "\n",
        "POST\n",
        "Sends data to the server to create a new resource or submit data for processing. It is not idempotent and can change the server state.\n",
        "\n",
        "PUT\n",
        "Updates or replaces an existing resource with the provided data. It is idempotent, meaning multiple identical requests have the same effect as a single one.\n",
        "\n",
        "DELETE\n",
        "Removes a specified resource from the server. It is idempotent, although repeated deletion of the same resource will return success even if the resource no longer exists.\n",
        "\n",
        "PATCH\n",
        "Applies partial modifications to a resource. Unlike PUT, which replaces the entire resource, PATCH updates only the specified fields. It is not necessarily idempotent, depending on implementation."
      ]
    },
    {
      "cell_type": "markdown",
      "metadata": {
        "id": "maRKDBCFvzv8"
      },
      "source": [
        "7. What is the purpose of the @app.route() decorator in Flask?\n",
        "\n",
        "--> The purpose of the @app.route() decorator in Flask is to bind a specific URL (or route) to a Python function, called a view function, that will handle requests to that URL. This decorator tells Flask which URL should trigger the execution of the decorated function, effectively mapping URL paths to code that responds to those paths.\n",
        "\n",
        "How It Works\n",
        "\n",
        "When a request comes in to the URL specified in @app.route(), Flask looks up the function associated with that route and calls it to generate the response.\n",
        "\n",
        "The decorator registers the function with Flask’s internal routing system, associating the path you give it (e.g., \"/\") with the function that follows the decorator.\n",
        "\n",
        "This mechanism enables Flask to serve different content or API responses depending on the requested URL without the function being explicitly called in the code; Flask handles calling the function internally when the route is accessed.\n",
        "\n",
        "```\n",
        "from flask import Flask\n",
        "\n",
        "app = Flask(__name__)\n",
        "\n",
        "@app.route('/')\n",
        "def home():\n",
        "    return \"Welcome to the homepage!\"\n",
        "\n",
        "if __name__ == '__main__':\n",
        "    app.run(debug=True)\n",
        "\n",
        "```\n",
        "\n"
      ]
    },
    {
      "cell_type": "markdown",
      "metadata": {
        "id": "zt1DNrEwwKg3"
      },
      "source": [
        "8. What is the difference between GET and POST HTTP methods?\n",
        "\n",
        "--> The GET HTTP method is used to request data from a specified resource on a server. It is designed to retrieve information without causing any side effects or changes to the resource. GET requests pass data through the URL as query parameters, making the data visible in the address bar. Because of this, GET requests are typically used for retrieving non-sensitive information. They can be cached, bookmarked, and stored in browser history. However, GET requests are limited in length due to URL length restrictions and only allow data to be sent in ASCII format. GET is considered a safe and idempotent method as it does not change the server state.\n",
        "\n",
        "On the other hand, the POST HTTP method is used to send data to a server to create or update a resource. Unlike GET, POST requests pass data in the body of the HTTP request rather than in the URL, allowing for larger amounts of data and a wider variety of content types including binary data. Because POST data is not visible in the URL, it offers relatively better security for sensitive data. POST requests are not cached or bookmarked and do not remain in browser history. They are not idempotent since submitting the same POST request multiple times may cause different effects, such as creating multiple records. POST is commonly used for submitting form data, uploading files, and triggering server-side modifications or processes"
      ]
    },
    {
      "cell_type": "markdown",
      "metadata": {
        "id": "nXy_DIN4wZ9m"
      },
      "source": [
        "9. How do you handle errors in Flask APIs?\n",
        "\n",
        "--> In Flask APIs, errors are handled by defining custom error handlers that return appropriate responses when specific types of errors occur. This can be done using the @app.errorhandler() decorator, which registers a function to catch exceptions or HTTP error codes and provide a custom response.\n",
        "\n",
        "\n",
        "```\n",
        "from flask import Flask, jsonify\n",
        "import werkzeug.exceptions\n",
        "\n",
        "app = Flask(__name__)\n",
        "\n",
        "@app.errorhandler(404)\n",
        "def not_found_error(e):\n",
        "    return jsonify(error=\"Resource not found\", status=404), 404\n",
        "\n",
        "@app.errorhandler(400)\n",
        "def bad_request_error(e):\n",
        "    return jsonify(error=\"Bad request\", status=400), 400\n",
        "\n",
        "```\n",
        "\n"
      ]
    },
    {
      "cell_type": "markdown",
      "metadata": {
        "id": "KeQnOmskwps1"
      },
      "source": [
        "10. How do you connect Flask to a SQL database?\n",
        "\n",
        "-->\n",
        "\n",
        "    1. Install Flask and Flask-SQLAlchemy\n",
        "\n",
        "\n",
        "pip install flask flask_sqlalchemy\n",
        "\n",
        "    2. Configure the Flask app to connect to the database\n",
        "\n",
        "\n",
        "\n",
        "```\n",
        "from flask import Flask\n",
        "from flask_sqlalchemy import SQLAlchemy\n",
        "\n",
        "app = Flask(__name__)\n",
        "\n",
        "# Example for SQLite. For other DBs, adjust the URI accordingly (e.g., MySQL, PostgreSQL).\n",
        "app.config['SQLALCHEMY_DATABASE_URI'] = 'sqlite:///site.db'\n",
        "app.config['SQLALCHEMY_TRACK_MODIFICATIONS'] = False\n",
        "\n",
        "db = SQLAlchemy(app)\n",
        "\n",
        "```\n",
        "\n",
        "    3. Define database models\n",
        "\n",
        "\n",
        "\n",
        "```\n",
        "class User(db.Model):\n",
        "    id = db.Column(db.Integer, primary_key=True)\n",
        "    username = db.Column(db.String(20), unique=True, nullable=False)\n",
        "    email = db.Column(db.String(120), unique=True, nullable=False)\n",
        "\n",
        "    def __repr__(self):\n",
        "        return f\"<User {self.username}>\"\n",
        "\n",
        "```\n",
        "\n",
        "    4. Create the database and tables\n",
        "\n",
        "\n",
        "\n",
        "```\n",
        "with app.app_context():\n",
        "    db.create_all()\n",
        "\n",
        "```\n",
        "    5. Use the models to interact with the database\n",
        "\n",
        "\n",
        "\n",
        "```\n",
        "@app.route('/add_user')\n",
        "def add_user():\n",
        "    user = User(username='alice', email='alice@example.com')\n",
        "    db.session.add(user)\n",
        "    db.session.commit()\n",
        "    return \"User added!\"\n",
        "\n",
        "```\n",
        "\n",
        "\n"
      ]
    },
    {
      "cell_type": "markdown",
      "metadata": {
        "id": "LlBTEHjmx7RK"
      },
      "source": [
        "11. What is the role of Flask-SQLAlchemy?\n",
        "\n",
        "--> Flask-SQLAlchemy is an extension for Flask that simplifies and enhances the integration of SQLAlchemy, a powerful Object-Relational Mapping (ORM) library, with Flask applications. Its primary role is to make database management easier and more efficient by providing a seamless interface to configure, interact with, and manage SQL databases within Flask projects.\n",
        "\n",
        "Key Roles of Flask-SQLAlchemy\n",
        "\n",
        "Simplified Setup and Configuration: Flask-SQLAlchemy abstracts away much of the complex setup required to use SQLAlchemy with Flask. It tightly integrates with Flask’s configuration system, enabling easy database connection setup and management for different environments (development, testing, production).\n",
        "\n",
        "ORM Functionality: It allows developers to work with database tables as Python classes (models), making database interactions more intuitive by using Python syntax instead of raw SQL queries.\n",
        "\n",
        "Automatic Session Management: Flask-SQLAlchemy manages database sessions automatically within Flask’s application context, ensuring connections are properly handled during requests and reducing boilerplate code around session lifecycle management.\n",
        "\n",
        "Simplified Querying: It extends SQLAlchemy’s query interface to work smoothly within Flask, enabling easy CRUD operations and query-building with clear, Flask-friendly syntax.\n",
        "\n",
        "Support for Multiple Database Systems: Flask-SQLAlchemy supports various SQL databases like SQLite, MySQL, and PostgreSQL, making it versatile for different use cases."
      ]
    },
    {
      "cell_type": "markdown",
      "metadata": {
        "id": "X4Y5uoAtyPyz"
      },
      "source": [
        "12. What are Flask blueprints, and how are they useful?\n",
        "\n",
        "--> Flask Blueprints are a way to organize a Flask application into modular, reusable components. They allow grouping related routes, templates, static files, and other code into distinct modules, which can then be registered on an application. This helps keep larger applications well-structured and manageable by breaking them down into smaller, logically separated parts.\n",
        "\n",
        "How Blueprints Are Useful\n",
        "Modularity: Blueprints enable developers to split an application into smaller modules, each handling a specific functionality or feature. This reduces complexity and makes the codebase easier to navigate and maintain.\n",
        "\n",
        "Reusability: By encapsulating routes, templates, and static files within a blueprint, these components can be reused across different projects or multiple times within the same application.\n",
        "\n",
        "Centralized Registration: Multiple blueprints can be registered on an app with different URL prefixes, making it easy to organize and version routes, such as API versions or user/admin sections.\n",
        "\n",
        "Extension Support: Flask extensions can use blueprints to register functionality without requiring direct app modifications, enabling cleaner integration.\n",
        "\n",
        "Separation of Concerns: Blueprints help separate concerns within the app — for example, authentication, blog posts, and API endpoints can live in their own blueprints, simplifying development and testing."
      ]
    },
    {
      "cell_type": "markdown",
      "metadata": {
        "id": "dVd64abgyacB"
      },
      "source": [
        "13. What is the purpose of Flask's request object?\n",
        "\n",
        "--> The purpose of Flask's request object is to act as a container for all the data sent from the client to the server in an HTTP request. It provides access to information such as the request method (GET, POST, etc.), headers, URL parameters, form data, cookies, and files uploaded by the client. This object is automatically created by Flask for each incoming request and is accessible within the request context, allowing developers to interact with and process client-sent data conveniently during request handling.\n",
        "\n",
        "In essence, the request object enables Flask applications to access and use all relevant details of the client's HTTP request, making it essential for dynamic web interactions and API endpoints where input needs to be processed."
      ]
    },
    {
      "cell_type": "markdown",
      "metadata": {
        "id": "JKF1D0yxy9UH"
      },
      "source": [
        "14. How do you create a RESTful API endpoint using Flask?\n",
        "\n",
        "--> To create a RESTful API endpoint using Flask, follow these steps:\n",
        "\n",
        "    1. Set up Flask\n",
        "\n",
        "\n",
        "```\n",
        "from flask import Flask, jsonify, request\n",
        "\n",
        "app = Flask(__name__)\n",
        "\n",
        "```\n",
        "\n",
        "    2. Define a route representing the API endpoint\n",
        "\n",
        "```\n",
        "@app.route('/api/items', methods=['GET'])\n",
        "def get_items():\n",
        "    items = [{\"id\": 1, \"name\": \"item1\"}, {\"id\": 2, \"name\": \"item2\"}]\n",
        "    return jsonify(items)\n",
        "\n",
        "```\n",
        "\n",
        "    3. Handle the request and return a JSON response\n",
        "\n",
        "Use jsonify() to return data in JSON format which is standard for RESTful APIs.\n",
        "\n",
        "    4. Run the Flask app\n",
        "\n",
        "```\n",
        "if __name__ == '__main__':\n",
        "    app.run(debug=True)\n",
        "\n",
        "```\n",
        "\n",
        "Example:\n",
        "```\n",
        "from flask import Flask, jsonify, request\n",
        "\n",
        "app = Flask(__name__)\n",
        "\n",
        "items = []\n",
        "\n",
        "@app.route('/api/items', methods=['GET', 'POST'])\n",
        "def manage_items():\n",
        "    if request.method == 'GET':\n",
        "        return jsonify(items)\n",
        "    elif request.method == 'POST':\n",
        "        new_item = request.json\n",
        "        items.append(new_item)\n",
        "        return jsonify(new_item), 201\n",
        "\n",
        "if __name__ == '__main__':\n",
        "    app.run(debug=True)\n",
        "\n",
        "```\n",
        "\n",
        "\n"
      ]
    },
    {
      "cell_type": "markdown",
      "metadata": {
        "id": "YU-19L89z4XU"
      },
      "source": [
        "15. What is the purpose of Flask's jsonify() function?\n",
        "\n",
        "--> The purpose of Flask's jsonify() function is to convert Python data structures like dictionaries or lists into JSON-formatted HTTP response objects automatically. It simplifies the creation of JSON responses for APIs by:\n",
        "\n",
        "Serializing the data to JSON format.\n",
        "\n",
        "Setting the proper Content-Type header to application/json to indicate the response is JSON.\n",
        "\n",
        "Returning a Flask Response object ready to be sent to the client with correct headers and status code (default 200 OK).\n",
        "\n",
        "Using jsonify() is more convenient and safer than manually converting data with json.dumps() and setting headers yourself. It ensures consistent formatting and response construction, which is essential for RESTful API development with Flask"
      ]
    },
    {
      "cell_type": "markdown",
      "metadata": {
        "id": "vSypEe8C0GcP"
      },
      "source": [
        "16. Explain Flask’s url_for() function.\n",
        "\n",
        "--> Flask's url_for() function is used to dynamically build URLs for specific functions or routes in a Flask application. Instead of hardcoding URLs, url_for() generates the correct URL based on the function name and any parameters it requires. This makes your application more maintainable because if you change the route's URL, you only need to update it in one place without manually changing all links.\n",
        "\n",
        "How url_for() Works\n",
        "\n",
        "The first argument is the name of the view function (the Python function that handles the route).\n",
        "\n",
        "Subsequent keyword arguments represent any dynamic parts of the URL that need to be filled (like URL variables).\n",
        "\n",
        "It generates an absolute URL path string corresponding to the route."
      ]
    },
    {
      "cell_type": "markdown",
      "metadata": {
        "id": "d7chYUPa0RYf"
      },
      "source": [
        "17.  How does Flask handle static files (CSS, JavaScript, etc.)?\n",
        "\n",
        "--> Flask handles static files such as CSS, JavaScript, images, and other assets by serving them from a designated folder called static located by default in the root of the Flask project directory.\n",
        "\n",
        "How Flask Serves Static Files\n",
        "Flask automatically creates a static file route at /static/ which serves any file placed inside the static folder.\n",
        "\n",
        "You simply add your static assets (e.g., CSS, JS, images) inside the static directory.\n",
        "\n",
        "In your HTML templates, you reference these files using a special function url_for('static', filename='filename.ext') that generates the correct URL path for the static file.\n",
        "\n",
        "```\n",
        "project/\n",
        "│\n",
        "├── app.py\n",
        "├── static/\n",
        "│   ├── style.css\n",
        "│   └── script.js\n",
        "└── templates/\n",
        "    └── index.html\n",
        "\n",
        "```\n",
        "\n"
      ]
    },
    {
      "cell_type": "markdown",
      "metadata": {
        "id": "i-KJEhU_0cKc"
      },
      "source": [
        "18. What is an API specification, and how does it help in building a Flask API?\n",
        "\n",
        "--> An API specification is a detailed, formal description of how an API behaves, including its available endpoints, operations, input and output data structures, and interaction patterns. It essentially serves as an architectural blueprint or contract that defines the API’s functionality in a language-agnostic, machine-readable format, often written in YAML or JSON using standards like the OpenAPI Specification (OAS).\n",
        "\n",
        "How API Specifications Help in Building a Flask API\n",
        "\n",
        "Clear Design Blueprint: The specification provides a precise, shared understanding of the API before any code is written, ensuring the API’s design aligns with requirements and expectations. Developers can define endpoints, parameters, response formats, and error codes upfront, making development structured and consistent.\n",
        "\n",
        "Automation: Tools can use the specification to automatically generate documentation, client SDKs, API mocks, and tests, which speeds up development and reduces errors. For Flask APIs, this can help developers generate boilerplate routes or validate API requests/responses.\n",
        "\n",
        "Collaboration: An API specification acts as a contract between backend developers, frontend teams, and other stakeholders, improving communication and collaboration. This reduces misunderstandings and streamlines integration.\n",
        "\n",
        "Validation and Quality Assurance: The specification enables automated validation of requests and responses against the defined schema, ensuring API compliance and reducing bugs in the Flask implementation.\n",
        "\n",
        "Documentation: When used with tools like Swagger UI or ReDoc, the specification can serve as interactive, up-to-date documentation that helps API consumers understand and use the Flask API easily."
      ]
    },
    {
      "cell_type": "markdown",
      "metadata": {
        "id": "5g6K7zPc0yam"
      },
      "source": [
        "19. What are HTTP status codes, and why are they important in a Flask API?\n",
        "\n",
        "--> HTTP status codes are three-digit numbers sent by a server in response to a client’s HTTP request. They communicate the outcome of the request, informing the client whether the request was successful, if further action is needed, or if an error occurred.\n",
        "\n",
        "Importance in Flask API\n",
        "\n",
        "Indicates Request Outcome: Status codes tell the client what happened on the server side — whether their request was processed successfully (e.g., 200 OK), created a resource (201 Created), was bad or unauthorized (4xx errors), or if the server encountered an error (5xx errors).\n",
        "\n",
        "Standardized Communication: Using standardized status codes makes APIs predictable and easy to consume by clients, allowing them to programmatically react to different outcomes.\n",
        "\n",
        "Error Handling and Debugging: Status codes help developers and clients diagnose issues and provide meaningful error messages or recovery mechanisms.\n",
        "\n",
        "RESTful Compliance: A key REST principle is to use appropriate HTTP status codes to reflect resource state changes and request results, making Flask APIs REST-compliant."
      ]
    },
    {
      "cell_type": "markdown",
      "metadata": {
        "id": "OEnvlmxb1CNB"
      },
      "source": [
        "20. How do you handle POST requests in Flask?\n",
        "\n",
        "-->\n",
        "\n",
        "    1. Specify POST method in the route decorator\n",
        "Use the methods argument of @app.route() to allow POST requests:\n",
        "\n",
        "```\n",
        "@app.route('/submit', methods=['POST'])\n",
        "```\n",
        "    2. Access incoming data\n",
        "Access the form data submitted via POST from request.form or JSON data from request.json:\n",
        "\n",
        "```\n",
        "from flask import request\n",
        "\n",
        "@app.route('/submit', methods=['POST'])\n",
        "def submit():\n",
        "    if request.is_json:\n",
        "        data = request.json  # For JSON data\n",
        "    else:\n",
        "        data = request.form  # For form data\n",
        "    # Process data here\n",
        "    return \"Data received\"\n",
        "\n",
        "```\n",
        "\n",
        "    3. Return an appropriate response\n",
        "Typically, return JSON responses using jsonify() or appropriate HTTP status codes.\n",
        "\n",
        "\n",
        "Example:\n",
        "```\n",
        "from flask import Flask, request, jsonify\n",
        "\n",
        "app = Flask(__name__)\n",
        "\n",
        "@app.route('/login', methods=['POST'])\n",
        "def login():\n",
        "    username = request.form.get('username')\n",
        "    password = request.form.get('password')\n",
        "    # Add authentication logic here\n",
        "    if username == 'admin' and password == 'secret':\n",
        "        return jsonify(message=\"Login successful\"), 200\n",
        "    else:\n",
        "        return jsonify(message=\"Invalid credentials\"), 401\n",
        "\n",
        "if __name__ == '__main__':\n",
        "    app.run(debug=True)\n",
        "\n",
        "```\n",
        "\n",
        "\n"
      ]
    },
    {
      "cell_type": "markdown",
      "metadata": {
        "id": "0mv8Ln1v1uYG"
      },
      "source": [
        "21.  How would you secure a Flask API?\n",
        "\n",
        "--> Securing a Flask API involves implementing multiple best practices and techniques to protect the application from common web vulnerabilities, ensure data confidentiality and integrity, and control access to resources. Here are key methods to secure a Flask API:\n",
        "\n",
        "1. Use HTTPS\n",
        "\n",
        "Enforce HTTPS to encrypt data in transit, preventing man-in-the-middle attacks. Flask can enforce HTTPS via extensions like Flask-SSLify, or this can be configured at the web server or load balancer level.\n",
        "\n",
        "2. Authentication and Authorization\n",
        "\n",
        "Implement strong user authentication mechanisms, such as OAuth2 or token-based authentication (e.g., JWT). Flask extensions like Flask-HTTPAuth or libraries like flask-jwt-extended help implement secure authentication and role-based access control.\n",
        "\n",
        "3. Input Validation and Sanitization\n",
        "\n",
        "Validate and sanitize all inputs to prevent injection attacks such as SQL injection and Cross-Site Scripting (XSS). Use tools like WTForms for form validation and escape output to avoid XSS.\n",
        "\n",
        "4. Cross-Site Request Forgery (CSRF) Protection\n",
        "\n",
        "Enable CSRF protection especially for forms and API endpoints that change state. Use the Flask-WTF extension or CSRFProtect middleware to add CSRF tokens to forms and validate them.\n",
        "\n",
        "5. Secure Password Storage\n",
        "\n",
        "Store passwords securely using robust hashing algorithms such as bcrypt with salt, instead of plain text or weak hashing methods.\n",
        "\n",
        "6. Use API Keys or OAuth Scopes\n",
        "\n",
        "Require API keys or OAuth scopes to control API access. Validate keys on incoming requests to ensure only authorized clients access the API.\n",
        "\n",
        "7. Limit Rate and Throttle Requests\n",
        "\n",
        "Implement rate limiting to prevent abuse or denial-of-service attacks, for example using Flask-Limiter.\n",
        "\n",
        "8. Secure Headers\n",
        "\n",
        "Implement security headers like Content Security Policy (CSP), HTTP Strict Transport Security (HSTS), and X-Content-Type-Options using tools like Flask-Talisman to mitigate security risks.\n",
        "\n",
        "9. Regular Updates and Dependency Management\n",
        "\n",
        "Keep Flask and all dependencies up-to-date to avoid exploitable vulnerabilities.\n",
        "\n",
        "10. Proper Error Handling and Logging\n",
        "\n",
        "Avoid leaking sensitive information in error messages. Log security-related events for monitoring and incident response."
      ]
    },
    {
      "cell_type": "markdown",
      "metadata": {
        "id": "6jJvcFi62Qp9"
      },
      "source": [
        "22. What is the significance of the Flask-RESTful extension?\n",
        "\n",
        "--> The Flask-RESTful extension significantly simplifies the process of building RESTful APIs with Flask by providing a clean, structured, and resource-oriented way to define API endpoints.\n",
        "\n",
        "Significance of Flask-RESTful:\n",
        "Resource-Oriented Design: It introduces the concept of resources represented as Python classes, where each HTTP method (GET, POST, PUT, DELETE) is defined as a method of that class, promoting organized and maintainable code.\n",
        "\n",
        "Simplified Routing: Instead of manually mapping URL routes with decorators, Flask-RESTful uses api.add_resource() to link resource classes to URL endpoints, reducing boilerplate and making the code clearer.\n",
        "\n",
        "Automatic Request Parsing: It includes built-in request parsing support via reqparse to handle and validate incoming data, making input processing easier and more reliable.\n",
        "\n",
        "Consistent Response Formatting: Automatically formats responses as JSON, aligning with RESTful API conventions, so developers don't have to manually serialize data.\n",
        "\n",
        "Integrated Error Handling: Provides built-in mechanisms for managing errors and exceptions consistently across the API.\n",
        "\n",
        "Content Negotiation and Validation: Supports multiple response formats and validation of input/output data structures to ensure data integrity and client compatibility.\n",
        "\n",
        "Seamless Flask Integration: Works on top of Flask’s core features for routing and request handling, allowing developers to build robust, scalable APIs with familiar tools\n",
        "\n",
        "```\n",
        "from flask import Flask\n",
        "from flask_restful import Api, Resource\n",
        "\n",
        "app = Flask(__name__)\n",
        "api = Api(app)\n",
        "\n",
        "class HelloWorld(Resource):\n",
        "    def get(self):\n",
        "        return {\"message\": \"Hello, Flask-RESTful!\"}\n",
        "\n",
        "api.add_resource(HelloWorld, '/')\n",
        "\n",
        "if __name__ == '__main__':\n",
        "    app.run(debug=True)\n",
        "\n",
        "```\n",
        "\n"
      ]
    },
    {
      "cell_type": "markdown",
      "metadata": {
        "id": "WUnmDi-D2fBT"
      },
      "source": [
        "23. What is the role of Flask’s session object?\n",
        "\n",
        "--> The role of Flask’s session object is to store data that needs to persist across multiple requests from the same client, enabling stateful interactions in a web application. Unlike the request object, which lasts only for a single request, the session object allows you to save user-specific information—such as login status, user preferences, or shopping cart contents—that must be remembered across different requests or pages.\n",
        "\n",
        "Key Characteristics of Flask’s Session Object\n",
        "Persistent Data Across Requests: It maintains information during a user's session on the site, such as authentication credentials or user-specific settings.\n",
        "\n",
        "Dictionary-like Interface: The session object behaves like a Python dictionary where you can store and retrieve key-value pairs specific to the user.\n",
        "\n",
        "Client-Side Cookie with Server-Side Signing: Flask stores session data in a cookie on the client’s browser, but this data is cryptographically signed using the app’s secret key to prevent tampering.\n",
        "\n",
        "Security: Since the data is signed and optionally encrypted, it provides a secure way to persist user state without exposing or allowing data manipulation on the client side.\n",
        "\n",
        "Usage: Common use cases include user login sessions, tracking shopping cart items, or keeping temporary user preferences.\n",
        "\n",
        "Example Usage\n",
        "\n",
        "```\n",
        "from flask import Flask, session\n",
        "\n",
        "app = Flask(__name__)\n",
        "app.secret_key = 'your_secret_key'\n",
        "\n",
        "@app.route('/login')\n",
        "def login():\n",
        "    session['username'] = 'Alice'  # Store username in session\n",
        "    return \"Logged in!\"\n",
        "\n",
        "@app.route('/profile')\n",
        "def profile():\n",
        "    username = session.get('username')\n",
        "    if username:\n",
        "        return f\"Hello, {username}!\"\n",
        "    else:\n",
        "        return \"Please log in first.\"\n",
        "\n",
        "```\n",
        "\n"
      ]
    },
    {
      "cell_type": "markdown",
      "metadata": {
        "id": "HBKEYcod2rWV"
      },
      "source": [
        "#Practical Questions"
      ]
    },
    {
      "cell_type": "markdown",
      "metadata": {
        "id": "zwC9u_V_oxZ9"
      },
      "source": [
        "1.  How do you create a basic Flask application?"
      ]
    },
    {
      "cell_type": "code",
      "execution_count": 2,
      "metadata": {
        "colab": {
          "base_uri": "https://localhost:8080/"
        },
        "id": "zusr28TH2tlR",
        "outputId": "009921ed-a345-4162-d2a0-d58997b1a9a1"
      },
      "outputs": [
        {
          "name": "stdout",
          "output_type": "stream",
          "text": [
            " * Serving Flask app '__main__'\n",
            " * Debug mode: on\n"
          ]
        },
        {
          "name": "stderr",
          "output_type": "stream",
          "text": [
            "INFO:werkzeug:\u001b[31m\u001b[1mWARNING: This is a development server. Do not use it in a production deployment. Use a production WSGI server instead.\u001b[0m\n",
            " * Running on http://127.0.0.1:5000\n",
            "INFO:werkzeug:\u001b[33mPress CTRL+C to quit\u001b[0m\n",
            "INFO:werkzeug: * Restarting with watchdog (inotify)\n"
          ]
        }
      ],
      "source": [
        "from flask import Flask\n",
        "\n",
        "app = Flask(__name__)\n",
        "\n",
        "@app.route('/')\n",
        "def home():\n",
        "    return 'Hello, Flask!'\n",
        "\n",
        "if __name__ == '__main__':\n",
        "    app.run(debug=True)\n"
      ]
    },
    {
      "cell_type": "markdown",
      "metadata": {
        "id": "SLz2rvIrpYFP"
      },
      "source": [
        "2. How do you serve static files like images or CSS in Flask?"
      ]
    },
    {
      "cell_type": "code",
      "execution_count": 3,
      "metadata": {
        "colab": {
          "base_uri": "https://localhost:8080/"
        },
        "id": "cnwe0IkLpURu",
        "outputId": "54e351ce-a87c-4887-f2b4-5821ffc4df84"
      },
      "outputs": [
        {
          "name": "stdout",
          "output_type": "stream",
          "text": [
            " * Serving Flask app '__main__'\n",
            " * Debug mode: on\n"
          ]
        },
        {
          "name": "stderr",
          "output_type": "stream",
          "text": [
            "INFO:werkzeug:\u001b[31m\u001b[1mWARNING: This is a development server. Do not use it in a production deployment. Use a production WSGI server instead.\u001b[0m\n",
            " * Running on http://127.0.0.1:5000\n",
            "INFO:werkzeug:\u001b[33mPress CTRL+C to quit\u001b[0m\n",
            "INFO:werkzeug: * Restarting with watchdog (inotify)\n"
          ]
        }
      ],
      "source": [
        "# Directory structure:\n",
        "# ├── app.py\n",
        "# ├── static/\n",
        "# │   ├── style.css\n",
        "# │   └── cat.jpg\n",
        "# └── templates/\n",
        "#     └── index.html\n",
        "\n",
        "# app.py\n",
        "from flask import Flask, render_template\n",
        "\n",
        "app = Flask(__name__)\n",
        "\n",
        "@app.route('/')\n",
        "def home():\n",
        "    return render_template('index.html')\n",
        "\n",
        "if __name__ == '__main__':\n",
        "    app.run(debug=True)\n",
        "\n",
        "'''\n",
        "HTML code\n",
        "\n",
        "<!-- templates/index.html -->\n",
        "<!DOCTYPE html>\n",
        "<html>\n",
        "<head>\n",
        "    <title>Static Demo</title>\n",
        "    <link rel=\"stylesheet\" href=\"{{ url_for('static', filename='style.css') }}\">\n",
        "</head>\n",
        "<body>\n",
        "    <h1>Hello, Flask Static!</h1>\n",
        "    <img src=\"{{ url_for('static', filename='cat.jpg') }}\" alt=\"Cat image\">\n",
        "</body>\n",
        "</html>\n",
        "\n",
        "'''"
      ]
    },
    {
      "cell_type": "markdown",
      "metadata": {
        "id": "MvPOlQqjpuyb"
      },
      "source": [
        "3.  How do you define different routes with different HTTP methods in Flask?"
      ]
    },
    {
      "cell_type": "code",
      "execution_count": 4,
      "metadata": {
        "colab": {
          "base_uri": "https://localhost:8080/"
        },
        "id": "10b-q0DGpkSY",
        "outputId": "f6a0440b-511e-4109-92cd-147235a55d24"
      },
      "outputs": [
        {
          "name": "stdout",
          "output_type": "stream",
          "text": [
            " * Serving Flask app '__main__'\n",
            " * Debug mode: on\n"
          ]
        },
        {
          "name": "stderr",
          "output_type": "stream",
          "text": [
            "INFO:werkzeug:\u001b[31m\u001b[1mWARNING: This is a development server. Do not use it in a production deployment. Use a production WSGI server instead.\u001b[0m\n",
            " * Running on http://127.0.0.1:5000\n",
            "INFO:werkzeug:\u001b[33mPress CTRL+C to quit\u001b[0m\n",
            "INFO:werkzeug: * Restarting with watchdog (inotify)\n"
          ]
        }
      ],
      "source": [
        "from flask import Flask, request\n",
        "\n",
        "app = Flask(__name__)\n",
        "\n",
        "@app.route('/get-example', methods=['GET'])\n",
        "def get_example():\n",
        "    return 'GET received'\n",
        "\n",
        "@app.route('/post-example', methods=['POST'])\n",
        "def post_example():\n",
        "    return 'POST received'\n",
        "\n",
        "@app.route('/both-example', methods=['GET', 'POST'])\n",
        "def both_example():\n",
        "    if request.method == 'POST':\n",
        "        return 'Handled POST'\n",
        "    return 'Handled GET'\n",
        "\n",
        "if __name__ == '__main__':\n",
        "    app.run(debug=True)\n"
      ]
    },
    {
      "cell_type": "markdown",
      "metadata": {
        "id": "bQ4nJgIdp7fH"
      },
      "source": [
        "4. How do you render HTML templates in Flask?"
      ]
    },
    {
      "cell_type": "code",
      "execution_count": 5,
      "metadata": {
        "colab": {
          "base_uri": "https://localhost:8080/",
          "height": 157
        },
        "id": "1avCyhrep25R",
        "outputId": "a000380d-5b28-41d5-c1a9-fbc7b84b25be"
      },
      "outputs": [
        {
          "name": "stdout",
          "output_type": "stream",
          "text": [
            " * Serving Flask app '__main__'\n",
            " * Debug mode: on\n"
          ]
        },
        {
          "name": "stderr",
          "output_type": "stream",
          "text": [
            "INFO:werkzeug:\u001b[31m\u001b[1mWARNING: This is a development server. Do not use it in a production deployment. Use a production WSGI server instead.\u001b[0m\n",
            " * Running on http://127.0.0.1:5000\n",
            "INFO:werkzeug:\u001b[33mPress CTRL+C to quit\u001b[0m\n",
            "INFO:werkzeug: * Restarting with watchdog (inotify)\n"
          ]
        },
        {
          "data": {
            "application/vnd.google.colaboratory.intrinsic+json": {
              "type": "string"
            },
            "text/plain": [
              "'\\n<!-- templates/index.html -->\\n<!DOCTYPE html>\\n<html>\\n<head>\\n    <title>Flask Template</title>\\n</head>\\n<body>\\n    <h1>Hello from HTML template!</h1>\\n</body>\\n</html>\\n\\n'"
            ]
          },
          "execution_count": 5,
          "metadata": {},
          "output_type": "execute_result"
        }
      ],
      "source": [
        "# Directory structure:\n",
        "# ├── app.py\n",
        "# └── templates/\n",
        "#     └── index.html\n",
        "\n",
        "# app.py\n",
        "from flask import Flask, render_template\n",
        "\n",
        "app = Flask(__name__)\n",
        "\n",
        "@app.route('/')\n",
        "def home():\n",
        "    return render_template('index.html')\n",
        "\n",
        "if __name__ == '__main__':\n",
        "    app.run(debug=True)\n",
        "'''\n",
        "<!-- templates/index.html -->\n",
        "<!DOCTYPE html>\n",
        "<html>\n",
        "<head>\n",
        "    <title>Flask Template</title>\n",
        "</head>\n",
        "<body>\n",
        "    <h1>Hello from HTML template!</h1>\n",
        "</body>\n",
        "</html>\n",
        "\n",
        "'''"
      ]
    },
    {
      "cell_type": "markdown",
      "metadata": {
        "id": "zRiYfUgYstGH"
      },
      "source": [
        "5. How can you generate URLs for routes in Flask using url_for?"
      ]
    },
    {
      "cell_type": "code",
      "execution_count": 6,
      "metadata": {
        "colab": {
          "base_uri": "https://localhost:8080/",
          "height": 70
        },
        "id": "RkZ8S7dgsq1d",
        "outputId": "a91575b3-81f3-4f4d-acd6-2338cf93dd88"
      },
      "outputs": [
        {
          "name": "stdout",
          "output_type": "stream",
          "text": [
            "/\n",
            "/user/alice\n"
          ]
        },
        {
          "data": {
            "application/vnd.google.colaboratory.intrinsic+json": {
              "type": "string"
            },
            "text/plain": [
              "'\\n<!-- In a template file -->\\n<a href=\"{{ url_for(\\'home\\') }}\">Home</a>\\n<a href=\"{{ url_for(\\'profile\\', username=\\'bob\\') }}\">Bob\\'s profile</a>\\n\\n'"
            ]
          },
          "execution_count": 6,
          "metadata": {},
          "output_type": "execute_result"
        }
      ],
      "source": [
        "from flask import Flask, url_for\n",
        "\n",
        "app = Flask(__name__)\n",
        "\n",
        "@app.route('/')\n",
        "def home():\n",
        "    return 'Home Page'\n",
        "\n",
        "@app.route('/user/<username>')\n",
        "def profile(username):\n",
        "    return f'User: {username}'\n",
        "\n",
        "with app.test_request_context():\n",
        "    print(url_for('home'))                # Output: /\n",
        "    print(url_for('profile', username='alice'))   # Output: /user/alice\n",
        "'''\n",
        "<!-- In a template file -->\n",
        "<a href=\"{{ url_for('home') }}\">Home</a>\n",
        "<a href=\"{{ url_for('profile', username='bob') }}\">Bob's profile</a>\n",
        "\n",
        "'''"
      ]
    },
    {
      "cell_type": "markdown",
      "metadata": {
        "id": "kdiyluwus4f6"
      },
      "source": [
        "6. How do you handle forms in Flask?"
      ]
    },
    {
      "cell_type": "code",
      "execution_count": 7,
      "metadata": {
        "colab": {
          "base_uri": "https://localhost:8080/",
          "height": 157
        },
        "id": "7DYDvL9ps24q",
        "outputId": "06f62fc7-8d2d-4d02-c61d-6ef92917bbad"
      },
      "outputs": [
        {
          "name": "stdout",
          "output_type": "stream",
          "text": [
            " * Serving Flask app '__main__'\n",
            " * Debug mode: on\n"
          ]
        },
        {
          "name": "stderr",
          "output_type": "stream",
          "text": [
            "INFO:werkzeug:\u001b[31m\u001b[1mWARNING: This is a development server. Do not use it in a production deployment. Use a production WSGI server instead.\u001b[0m\n",
            " * Running on http://127.0.0.1:5000\n",
            "INFO:werkzeug:\u001b[33mPress CTRL+C to quit\u001b[0m\n",
            "INFO:werkzeug: * Restarting with watchdog (inotify)\n"
          ]
        },
        {
          "data": {
            "application/vnd.google.colaboratory.intrinsic+json": {
              "type": "string"
            },
            "text/plain": [
              "'\\n<!-- templates/success.html -->\\n<!DOCTYPE html>\\n<html>\\n<head>\\n    <title>Success</title>\\n</head>\\n<body>\\n    <h1>Form Submitted</h1>\\n    <p>Name: {{ name }}</p>\\n    <p>Email: {{ email }}</p>\\n</body>\\n</html>\\n\\n'"
            ]
          },
          "execution_count": 7,
          "metadata": {},
          "output_type": "execute_result"
        }
      ],
      "source": [
        "# Directory structure:\n",
        "# ├── app.py\n",
        "# └── templates/\n",
        "#     ├── form.html\n",
        "#     └── success.html\n",
        "\n",
        "# app.py\n",
        "from flask import Flask, render_template, request\n",
        "\n",
        "app = Flask(__name__)\n",
        "\n",
        "@app.route('/')\n",
        "def form():\n",
        "    return render_template('form.html')\n",
        "\n",
        "@app.route('/submit', methods=['POST'])\n",
        "def submit():\n",
        "    name = request.form.get('name')\n",
        "    email = request.form.get('email')\n",
        "    return render_template('success.html', name=name, email=email)\n",
        "\n",
        "if __name__ == '__main__':\n",
        "    app.run(debug=True)\n",
        "'''\n",
        "<!-- templates/form.html -->\n",
        "<!DOCTYPE html>\n",
        "<html>\n",
        "<head>\n",
        "    <title>Form Example</title>\n",
        "</head>\n",
        "<body>\n",
        "    <form action=\"{{ url_for('submit') }}\" method=\"post\">\n",
        "        <label for=\"name\">Name:</label>\n",
        "        <input type=\"text\" id=\"name\" name=\"name\"><br>\n",
        "        <label for=\"email\">Email:</label>\n",
        "        <input type=\"text\" id=\"email\" name=\"email\"><br>\n",
        "        <input type=\"submit\" value=\"Submit\">\n",
        "    </form>\n",
        "</body>\n",
        "</html>\n",
        "\n",
        "'''\n",
        "'''\n",
        "<!-- templates/success.html -->\n",
        "<!DOCTYPE html>\n",
        "<html>\n",
        "<head>\n",
        "    <title>Success</title>\n",
        "</head>\n",
        "<body>\n",
        "    <h1>Form Submitted</h1>\n",
        "    <p>Name: {{ name }}</p>\n",
        "    <p>Email: {{ email }}</p>\n",
        "</body>\n",
        "</html>\n",
        "\n",
        "'''"
      ]
    },
    {
      "cell_type": "markdown",
      "metadata": {
        "id": "qkvG5BfQtKiE"
      },
      "source": [
        "7.  How can you validate form data in Flask?"
      ]
    },
    {
      "cell_type": "code",
      "execution_count": 8,
      "metadata": {
        "colab": {
          "base_uri": "https://localhost:8080/",
          "height": 384
        },
        "id": "QitrQaLmtG53",
        "outputId": "597ed15c-0761-4c2c-be99-3ad13d83fcf8"
      },
      "outputs": [
        {
          "ename": "ModuleNotFoundError",
          "evalue": "No module named 'wtforms'",
          "output_type": "error",
          "traceback": [
            "\u001b[0;31m---------------------------------------------------------------------------\u001b[0m",
            "\u001b[0;31mModuleNotFoundError\u001b[0m                       Traceback (most recent call last)",
            "\u001b[0;32m/tmp/ipython-input-3299837243.py\u001b[0m in \u001b[0;36m<cell line: 0>\u001b[0;34m()\u001b[0m\n\u001b[1;32m      1\u001b[0m \u001b[0;32mfrom\u001b[0m \u001b[0mflask\u001b[0m \u001b[0;32mimport\u001b[0m \u001b[0mFlask\u001b[0m\u001b[0;34m,\u001b[0m \u001b[0mrender_template\u001b[0m\u001b[0;34m,\u001b[0m \u001b[0mrequest\u001b[0m\u001b[0;34m,\u001b[0m \u001b[0mredirect\u001b[0m\u001b[0;34m,\u001b[0m \u001b[0murl_for\u001b[0m\u001b[0;34m,\u001b[0m \u001b[0mflash\u001b[0m\u001b[0;34m\u001b[0m\u001b[0;34m\u001b[0m\u001b[0m\n\u001b[0;32m----> 2\u001b[0;31m \u001b[0;32mfrom\u001b[0m \u001b[0mwtforms\u001b[0m \u001b[0;32mimport\u001b[0m \u001b[0mForm\u001b[0m\u001b[0;34m,\u001b[0m \u001b[0mStringField\u001b[0m\u001b[0;34m,\u001b[0m \u001b[0mvalidators\u001b[0m\u001b[0;34m\u001b[0m\u001b[0;34m\u001b[0m\u001b[0m\n\u001b[0m\u001b[1;32m      3\u001b[0m \u001b[0;34m\u001b[0m\u001b[0m\n\u001b[1;32m      4\u001b[0m \u001b[0mapp\u001b[0m \u001b[0;34m=\u001b[0m \u001b[0mFlask\u001b[0m\u001b[0;34m(\u001b[0m\u001b[0m__name__\u001b[0m\u001b[0;34m)\u001b[0m\u001b[0;34m\u001b[0m\u001b[0;34m\u001b[0m\u001b[0m\n\u001b[1;32m      5\u001b[0m \u001b[0mapp\u001b[0m\u001b[0;34m.\u001b[0m\u001b[0msecret_key\u001b[0m \u001b[0;34m=\u001b[0m \u001b[0;34m'secret_key'\u001b[0m  \u001b[0;31m# Needed for flashing messages\u001b[0m\u001b[0;34m\u001b[0m\u001b[0;34m\u001b[0m\u001b[0m\n",
            "\u001b[0;31mModuleNotFoundError\u001b[0m: No module named 'wtforms'",
            "",
            "\u001b[0;31m---------------------------------------------------------------------------\u001b[0;32m\nNOTE: If your import is failing due to a missing package, you can\nmanually install dependencies using either !pip or !apt.\n\nTo view examples of installing some common dependencies, click the\n\"Open Examples\" button below.\n\u001b[0;31m---------------------------------------------------------------------------\u001b[0m\n"
          ]
        }
      ],
      "source": [
        "from flask import Flask, render_template, request, redirect, url_for, flash\n",
        "from wtforms import Form, StringField, validators\n",
        "\n",
        "app = Flask(__name__)\n",
        "app.secret_key = 'secret_key'  # Needed for flashing messages\n",
        "\n",
        "# Define a WTForms form class with validation\n",
        "class MyForm(Form):\n",
        "    name = StringField('Name', [validators.InputRequired(), validators.Length(min=3, max=25)])\n",
        "    email = StringField('Email', [validators.InputRequired(), validators.Email()])\n",
        "\n",
        "@app.route('/', methods=['GET', 'POST'])\n",
        "def form():\n",
        "    form = MyForm(request.form)\n",
        "    if request.method == 'POST' and form.validate():\n",
        "        name = form.name.data\n",
        "        email = form.email.data\n",
        "        return render_template('success.html', name=name, email=email)\n",
        "    else:\n",
        "        for field, errors in form.errors.items():\n",
        "            for error in errors:\n",
        "                flash(f\"Error in {field}: {error}\")\n",
        "    return render_template('form.html', form=form)\n",
        "\n",
        "if __name__ == '__main__':\n",
        "    app.run(debug=True)\n",
        "\n",
        "\n",
        "'''\n",
        "<!-- templates/form.html -->\n",
        "<!DOCTYPE html>\n",
        "<html>\n",
        "<head>\n",
        "    <title>Form Validation</title>\n",
        "</head>\n",
        "<body>\n",
        "    <form action=\"{{ url_for('form') }}\" method=\"post\">\n",
        "        <label>Name:</label>\n",
        "        <input type=\"text\" name=\"name\" value=\"{{ form.name.data or '' }}\"><br>\n",
        "        <label>Email:</label>\n",
        "        <input type=\"text\" name=\"email\" value=\"{{ form.email.data or '' }}\"><br>\n",
        "        <input type=\"submit\" value=\"Submit\">\n",
        "    </form>\n",
        "\n",
        "    {% with messages = get_flashed_messages() %}\n",
        "      {% if messages %}\n",
        "        <ul>\n",
        "          {% for msg in messages %}\n",
        "            <li style=\"color:red\">{{ msg }}</li>\n",
        "          {% endfor %}\n",
        "        </ul>\n",
        "      {% endif %}\n",
        "    {% endwith %}\n",
        "</body>\n",
        "</html>\n",
        "\n",
        "'''"
      ]
    },
    {
      "cell_type": "markdown",
      "metadata": {
        "id": "msJptNqvtk7Y"
      },
      "source": [
        "8.  How do you manage sessions in Flask?"
      ]
    },
    {
      "cell_type": "code",
      "execution_count": 9,
      "metadata": {
        "colab": {
          "base_uri": "https://localhost:8080/"
        },
        "id": "Iuy9PAbuthGB",
        "outputId": "866c72e3-2983-4529-c575-20d398c06b4d"
      },
      "outputs": [
        {
          "name": "stdout",
          "output_type": "stream",
          "text": [
            " * Serving Flask app '__main__'\n",
            " * Debug mode: on\n"
          ]
        },
        {
          "name": "stderr",
          "output_type": "stream",
          "text": [
            "INFO:werkzeug:\u001b[31m\u001b[1mWARNING: This is a development server. Do not use it in a production deployment. Use a production WSGI server instead.\u001b[0m\n",
            " * Running on http://127.0.0.1:5000\n",
            "INFO:werkzeug:\u001b[33mPress CTRL+C to quit\u001b[0m\n",
            "INFO:werkzeug: * Restarting with watchdog (inotify)\n"
          ]
        }
      ],
      "source": [
        "from flask import Flask, session, redirect, url_for, request\n",
        "\n",
        "app = Flask(__name__)\n",
        "app.secret_key = 'your_secret_key_here'  # Keep this secret and random\n",
        "\n",
        "@app.route('/login', methods=['GET', 'POST'])\n",
        "def login():\n",
        "    if request.method == 'POST':\n",
        "        session['username'] = request.form['username']\n",
        "        return redirect(url_for('profile'))\n",
        "    return '''\n",
        "        <form method=\"post\">\n",
        "            <input type=\"text\" name=\"username\" placeholder=\"Enter username\">\n",
        "            <input type=\"submit\" value=\"Login\">\n",
        "        </form>\n",
        "    '''\n",
        "\n",
        "@app.route('/profile')\n",
        "def profile():\n",
        "    if 'username' in session:\n",
        "        return f'Logged in as {session[\"username\"]}'\n",
        "    return 'You are not logged in'\n",
        "\n",
        "@app.route('/logout')\n",
        "def logout():\n",
        "    session.pop('username', None)\n",
        "    return 'You have been logged out'\n",
        "\n",
        "if __name__ == '__main__':\n",
        "    app.run(debug=True)"
      ]
    },
    {
      "cell_type": "markdown",
      "metadata": {
        "id": "HBLzs6wItw3k"
      },
      "source": [
        "9. How do you redirect to a different route in Flask?"
      ]
    },
    {
      "cell_type": "code",
      "execution_count": 10,
      "metadata": {
        "colab": {
          "base_uri": "https://localhost:8080/"
        },
        "id": "66t2S9xCttKd",
        "outputId": "f016b8a0-3107-4c31-c3a0-ee65078f9f45"
      },
      "outputs": [
        {
          "name": "stdout",
          "output_type": "stream",
          "text": [
            " * Serving Flask app '__main__'\n",
            " * Debug mode: on\n"
          ]
        },
        {
          "name": "stderr",
          "output_type": "stream",
          "text": [
            "INFO:werkzeug:\u001b[31m\u001b[1mWARNING: This is a development server. Do not use it in a production deployment. Use a production WSGI server instead.\u001b[0m\n",
            " * Running on http://127.0.0.1:5000\n",
            "INFO:werkzeug:\u001b[33mPress CTRL+C to quit\u001b[0m\n",
            "INFO:werkzeug: * Restarting with watchdog (inotify)\n"
          ]
        }
      ],
      "source": [
        "from flask import Flask, redirect, url_for\n",
        "\n",
        "app = Flask(__name__)\n",
        "\n",
        "@app.route('/')\n",
        "def home():\n",
        "    # Redirect to /welcome route\n",
        "    return redirect(url_for('welcome'))\n",
        "\n",
        "@app.route('/welcome')\n",
        "def welcome():\n",
        "    return 'Welcome to the redirected page!'\n",
        "\n",
        "if __name__ == '__main__':\n",
        "    app.run(debug=True)\n"
      ]
    },
    {
      "cell_type": "markdown",
      "metadata": {
        "id": "Yiv0v1XauPL0"
      },
      "source": [
        "10. How do you handle errors in Flask (e.g., 404)?"
      ]
    },
    {
      "cell_type": "code",
      "execution_count": 11,
      "metadata": {
        "colab": {
          "base_uri": "https://localhost:8080/",
          "height": 157
        },
        "id": "JbaqDHrfuNwn",
        "outputId": "11dc3563-9de9-4d9b-bb35-2784a27b6bc6"
      },
      "outputs": [
        {
          "name": "stdout",
          "output_type": "stream",
          "text": [
            " * Serving Flask app '__main__'\n",
            " * Debug mode: on\n"
          ]
        },
        {
          "name": "stderr",
          "output_type": "stream",
          "text": [
            "INFO:werkzeug:\u001b[31m\u001b[1mWARNING: This is a development server. Do not use it in a production deployment. Use a production WSGI server instead.\u001b[0m\n",
            " * Running on http://127.0.0.1:5000\n",
            "INFO:werkzeug:\u001b[33mPress CTRL+C to quit\u001b[0m\n",
            "INFO:werkzeug: * Restarting with watchdog (inotify)\n"
          ]
        },
        {
          "data": {
            "application/vnd.google.colaboratory.intrinsic+json": {
              "type": "string"
            },
            "text/plain": [
              "'\\n<!-- templates/404.html -->\\n<!DOCTYPE html>\\n<html>\\n<head>\\n    <title>Page Not Found</title>\\n</head>\\n<body>\\n    <h1>404 Error</h1>\\n    <p>The page you are looking for does not exist.</p>\\n</body>\\n</html>\\n\\n'"
            ]
          },
          "execution_count": 11,
          "metadata": {},
          "output_type": "execute_result"
        }
      ],
      "source": [
        "from flask import Flask, render_template\n",
        "\n",
        "app = Flask(__name__)\n",
        "\n",
        "@app.route('/')\n",
        "def home():\n",
        "    return 'Home page'\n",
        "\n",
        "# Custom handler for 404 errors\n",
        "@app.errorhandler(404)\n",
        "def page_not_found(e):\n",
        "    return render_template('404.html'), 404\n",
        "\n",
        "if __name__ == '__main__':\n",
        "    app.run(debug=True)\n",
        "'''\n",
        "<!-- templates/404.html -->\n",
        "<!DOCTYPE html>\n",
        "<html>\n",
        "<head>\n",
        "    <title>Page Not Found</title>\n",
        "</head>\n",
        "<body>\n",
        "    <h1>404 Error</h1>\n",
        "    <p>The page you are looking for does not exist.</p>\n",
        "</body>\n",
        "</html>\n",
        "\n",
        "'''"
      ]
    },
    {
      "cell_type": "markdown",
      "metadata": {
        "id": "GGqcbKldvNCs"
      },
      "source": [
        "11. How do you structure a Flask app using Blueprints?"
      ]
    },
    {
      "cell_type": "code",
      "execution_count": 12,
      "metadata": {
        "colab": {
          "base_uri": "https://localhost:8080/",
          "height": 384
        },
        "id": "5ize35UdvLOU",
        "outputId": "051c44c0-2cac-4315-ac0f-1a6f951993dd"
      },
      "outputs": [
        {
          "ename": "ImportError",
          "evalue": "attempted relative import with no known parent package",
          "output_type": "error",
          "traceback": [
            "\u001b[0;31m---------------------------------------------------------------------------\u001b[0m",
            "\u001b[0;31mImportError\u001b[0m                               Traceback (most recent call last)",
            "\u001b[0;32m/tmp/ipython-input-3313739358.py\u001b[0m in \u001b[0;36m<cell line: 0>\u001b[0;34m()\u001b[0m\n\u001b[1;32m     14\u001b[0m \u001b[0mmain_bp\u001b[0m \u001b[0;34m=\u001b[0m \u001b[0mBlueprint\u001b[0m\u001b[0;34m(\u001b[0m\u001b[0;34m'main'\u001b[0m\u001b[0;34m,\u001b[0m \u001b[0m__name__\u001b[0m\u001b[0;34m)\u001b[0m\u001b[0;34m\u001b[0m\u001b[0;34m\u001b[0m\u001b[0m\n\u001b[1;32m     15\u001b[0m \u001b[0;34m\u001b[0m\u001b[0m\n\u001b[0;32m---> 16\u001b[0;31m \u001b[0;32mfrom\u001b[0m \u001b[0;34m.\u001b[0m \u001b[0;32mimport\u001b[0m \u001b[0mroutes\u001b[0m\u001b[0;34m\u001b[0m\u001b[0;34m\u001b[0m\u001b[0m\n\u001b[0m\u001b[1;32m     17\u001b[0m \u001b[0;34m\u001b[0m\u001b[0m\n\u001b[1;32m     18\u001b[0m \u001b[0;31m# main/routes.py\u001b[0m\u001b[0;34m\u001b[0m\u001b[0;34m\u001b[0m\u001b[0m\n",
            "\u001b[0;31mImportError\u001b[0m: attempted relative import with no known parent package",
            "",
            "\u001b[0;31m---------------------------------------------------------------------------\u001b[0;32m\nNOTE: If your import is failing due to a missing package, you can\nmanually install dependencies using either !pip or !apt.\n\nTo view examples of installing some common dependencies, click the\n\"Open Examples\" button below.\n\u001b[0;31m---------------------------------------------------------------------------\u001b[0m\n"
          ]
        }
      ],
      "source": [
        "# Directory structure:\n",
        "# /project\n",
        "# ├── app.py\n",
        "# ├── main/\n",
        "# │   ├── __init__.py\n",
        "# │   └── routes.py\n",
        "# └── user/\n",
        "#     ├── __init__.py\n",
        "#     └── routes.py\n",
        "\n",
        "# main/__init__.py\n",
        "from flask import Blueprint\n",
        "\n",
        "main_bp = Blueprint('main', __name__)\n",
        "\n",
        "from . import routes\n",
        "\n",
        "# main/routes.py\n",
        "from . import main_bp\n",
        "\n",
        "@main_bp.route('/')\n",
        "def home():\n",
        "    return \"Main Home Page\"\n",
        "\n",
        "# user/__init__.py\n",
        "from flask import Blueprint\n",
        "\n",
        "user_bp = Blueprint('user', __name__, url_prefix='/user')\n",
        "\n",
        "from . import routes\n",
        "\n",
        "# user/routes.py\n",
        "from . import user_bp\n",
        "\n",
        "@user_bp.route('/profile')\n",
        "def profile():\n",
        "    return \"User Profile\"\n",
        "\n",
        "# app.py\n",
        "from flask import Flask\n",
        "from main import main_bp\n",
        "from user import user_bp\n",
        "\n",
        "app = Flask(__name__)\n",
        "\n",
        "app.register_blueprint(main_bp)\n",
        "app.register_blueprint(user_bp)\n",
        "\n",
        "if __name__ == '__main__':\n",
        "    app.run(debug=True)\n"
      ]
    },
    {
      "cell_type": "markdown",
      "metadata": {
        "id": "Up5ccEqGvZZ2"
      },
      "source": [
        "12. How do you define a custom Jinja filter in Flask?"
      ]
    },
    {
      "cell_type": "code",
      "execution_count": 13,
      "metadata": {
        "colab": {
          "base_uri": "https://localhost:8080/",
          "height": 139
        },
        "id": "Xqg9S7E2vWaE",
        "outputId": "2e53e40b-4512-4f74-946d-5f1cd0589abd"
      },
      "outputs": [
        {
          "name": "stdout",
          "output_type": "stream",
          "text": [
            " * Serving Flask app '__main__'\n",
            " * Debug mode: on\n"
          ]
        },
        {
          "name": "stderr",
          "output_type": "stream",
          "text": [
            "INFO:werkzeug:\u001b[31m\u001b[1mWARNING: This is a development server. Do not use it in a production deployment. Use a production WSGI server instead.\u001b[0m\n",
            " * Running on http://127.0.0.1:5000\n",
            "INFO:werkzeug:\u001b[33mPress CTRL+C to quit\u001b[0m\n",
            "INFO:werkzeug: * Restarting with watchdog (inotify)\n"
          ]
        },
        {
          "data": {
            "application/vnd.google.colaboratory.intrinsic+json": {
              "type": "string"
            },
            "text/plain": [
              "'\\n{{ \"Hello Flask\"|reverse }}\\n'"
            ]
          },
          "execution_count": 13,
          "metadata": {},
          "output_type": "execute_result"
        }
      ],
      "source": [
        "from flask import Flask\n",
        "\n",
        "app = Flask(__name__)\n",
        "\n",
        "# Define a custom Jinja filter function\n",
        "def reverse_string(s):\n",
        "    return s[::-1]\n",
        "\n",
        "# Register the custom filter with Flask\n",
        "app.jinja_env.filters['reverse'] = reverse_string\n",
        "\n",
        "@app.route('/')\n",
        "def home():\n",
        "    sample_text = \"Hello Flask\"\n",
        "    # In template, use {{ sample_text|reverse }}\n",
        "    return f'Original: {sample_text} | Reversed: {reverse_string(sample_text)}'\n",
        "\n",
        "if __name__ == '__main__':\n",
        "    app.run(debug=True)\n",
        "'''\n",
        "{{ \"Hello Flask\"|reverse }}\n",
        "'''"
      ]
    },
    {
      "cell_type": "markdown",
      "metadata": {
        "id": "H5r86RE0vpd0"
      },
      "source": [
        "13. How can you redirect with query parameters in Flask?"
      ]
    },
    {
      "cell_type": "code",
      "execution_count": 14,
      "metadata": {
        "colab": {
          "base_uri": "https://localhost:8080/"
        },
        "id": "ac_OadyxvmQY",
        "outputId": "b9613736-ed36-4aa4-ef00-d6dbc882dfd8"
      },
      "outputs": [
        {
          "name": "stdout",
          "output_type": "stream",
          "text": [
            " * Serving Flask app '__main__'\n",
            " * Debug mode: on\n"
          ]
        },
        {
          "name": "stderr",
          "output_type": "stream",
          "text": [
            "INFO:werkzeug:\u001b[31m\u001b[1mWARNING: This is a development server. Do not use it in a production deployment. Use a production WSGI server instead.\u001b[0m\n",
            " * Running on http://127.0.0.1:5000\n",
            "INFO:werkzeug:\u001b[33mPress CTRL+C to quit\u001b[0m\n",
            "INFO:werkzeug: * Restarting with watchdog (inotify)\n"
          ]
        }
      ],
      "source": [
        "from flask import Flask, redirect, url_for, request\n",
        "\n",
        "app = Flask(__name__)\n",
        "\n",
        "@app.route('/search')\n",
        "def search():\n",
        "    query = request.args.get('q')\n",
        "    return f'Search results for: {query}'\n",
        "\n",
        "@app.route('/go-to-search')\n",
        "def go_to_search():\n",
        "    # Redirect with query parameter q=flask\n",
        "    return redirect(url_for('search', q='flask'))\n",
        "\n",
        "if __name__ == '__main__':\n",
        "    app.run(debug=True)"
      ]
    },
    {
      "cell_type": "markdown",
      "metadata": {
        "id": "7YBwbbTUvyos"
      },
      "source": [
        "14.   How do you return JSON responses in Flask?"
      ]
    },
    {
      "cell_type": "code",
      "execution_count": 15,
      "metadata": {
        "colab": {
          "base_uri": "https://localhost:8080/"
        },
        "id": "ruj9uxYzvxPq",
        "outputId": "db5cb79d-eb57-415f-8c7f-8e4a48c909c8"
      },
      "outputs": [
        {
          "name": "stdout",
          "output_type": "stream",
          "text": [
            " * Serving Flask app '__main__'\n",
            " * Debug mode: on\n"
          ]
        },
        {
          "name": "stderr",
          "output_type": "stream",
          "text": [
            "INFO:werkzeug:\u001b[31m\u001b[1mWARNING: This is a development server. Do not use it in a production deployment. Use a production WSGI server instead.\u001b[0m\n",
            " * Running on http://127.0.0.1:5000\n",
            "INFO:werkzeug:\u001b[33mPress CTRL+C to quit\u001b[0m\n",
            "INFO:werkzeug: * Restarting with watchdog (inotify)\n"
          ]
        }
      ],
      "source": [
        "from flask import Flask, jsonify\n",
        "\n",
        "app = Flask(__name__)\n",
        "\n",
        "@app.route('/api/data')\n",
        "def api_data():\n",
        "    data = {\n",
        "        \"name\": \"Lily\",\n",
        "        \"age\": 25,\n",
        "        \"languages\": [\"Python\", \"JavaScript\", \"C++\"]\n",
        "    }\n",
        "    return jsonify(data)\n",
        "\n",
        "if __name__ == '__main__':\n",
        "    app.run(debug=True)\n"
      ]
    },
    {
      "cell_type": "markdown",
      "metadata": {
        "id": "psaxrUyVwA3M"
      },
      "source": [
        "15.  How do you capture URL parameters in Flask?"
      ]
    },
    {
      "cell_type": "code",
      "execution_count": 16,
      "metadata": {
        "colab": {
          "base_uri": "https://localhost:8080/"
        },
        "id": "ql1T269tv-Tj",
        "outputId": "ebc19649-2c4c-4a80-9963-a3585df334e7"
      },
      "outputs": [
        {
          "name": "stdout",
          "output_type": "stream",
          "text": [
            " * Serving Flask app '__main__'\n",
            " * Debug mode: on\n"
          ]
        },
        {
          "name": "stderr",
          "output_type": "stream",
          "text": [
            "INFO:werkzeug:\u001b[31m\u001b[1mWARNING: This is a development server. Do not use it in a production deployment. Use a production WSGI server instead.\u001b[0m\n",
            " * Running on http://127.0.0.1:5000\n",
            "INFO:werkzeug:\u001b[33mPress CTRL+C to quit\u001b[0m\n",
            "INFO:werkzeug: * Restarting with watchdog (inotify)\n"
          ]
        }
      ],
      "source": [
        "from flask import Flask, request\n",
        "\n",
        "app = Flask(__name__)\n",
        "\n",
        "# Capturing URL path parameter\n",
        "@app.route('/user/<username>')\n",
        "def user_profile(username):\n",
        "    return f'Profile page of user: {username}'\n",
        "\n",
        "# Capturing query string parameters\n",
        "@app.route('/search')\n",
        "def search():\n",
        "    query = request.args.get('q', '')  # Access query parameter 'q'\n",
        "    page = request.args.get('page', default=1, type=int)\n",
        "    return f'Search results for: {query}, page: {page}'\n",
        "\n",
        "if __name__ == '__main__':\n",
        "    app.run(debug=True)"
      ]
    }
  ],
  "metadata": {
    "colab": {
      "provenance": []
    },
    "kernelspec": {
      "display_name": "Python 3",
      "name": "python3"
    },
    "language_info": {
      "name": "python"
    }
  },
  "nbformat": 4,
  "nbformat_minor": 0
}
